{
 "cells": [
  {
   "cell_type": "code",
   "execution_count": 1,
   "metadata": {},
   "outputs": [],
   "source": [
    "import numpy as np\n",
    "import matplotlib.pyplot as plt"
   ]
  },
  {
   "cell_type": "markdown",
   "metadata": {},
   "source": [
    "## Load Data"
   ]
  },
  {
   "cell_type": "code",
   "execution_count": 2,
   "metadata": {},
   "outputs": [],
   "source": [
    "Y_train = np.loadtxt('train.txt', dtype='int')\n",
    "Y_test = np.loadtxt('test.txt', dtype='int')"
   ]
  },
  {
   "cell_type": "markdown",
   "metadata": {},
   "source": [
    "## Helper Functions"
   ]
  },
  {
   "cell_type": "code",
   "execution_count": 3,
   "metadata": {},
   "outputs": [],
   "source": [
    "def grad_U(Yij, Ui, ai, Vj, bj, mu, r, eta):\n",
    "    \"\"\"\n",
    "    Gradient of the regularized loss function with respect to Ui multiplied by eta.\n",
    "    \"\"\"\n",
    "    # Calculate gradient\n",
    "    grad = r * Ui - 2 * Vj * (Yij - mu - np.dot(Ui, Vj) - ai - bj)\n",
    "    # Scale by learning rate\n",
    "    scaledGrad = eta * grad\n",
    "    return scaledGrad\n",
    "\n",
    "def grad_V(Yij, Ui, ai, Vj, bj, mu, r, eta):\n",
    "    \"\"\"\n",
    "    Gradient of the regularized loss function with respect to Vj multiplied by eta.\n",
    "    \"\"\"\n",
    "    # Calculate gradient\n",
    "    grad = r * Vj - 2 * Ui * (Yij - mu - np.dot(Ui, Vj) - ai - bj)\n",
    "    # Scale by learning rate\n",
    "    scaledGrad = eta * grad\n",
    "    return scaledGrad\n",
    "\n",
    "def grad_A(Yij, Ui, ai, Vj, bj, mu, r, eta):\n",
    "    \"\"\"\n",
    "    Gradient of the regularized loss function with respect to Ai multiplied by eta.\n",
    "    \"\"\"\n",
    "    # Calculate gradient\n",
    "    grad = r * ai - 2 * (Yij - mu - np.dot(Ui, Vj) - ai - bj)\n",
    "    # Scale by learning rate\n",
    "    scaledGrad = eta * grad\n",
    "    return scaledGrad\n",
    "\n",
    "def grad_B(Yij, Ui, ai, Vj, bj, mu, r, eta):\n",
    "    \"\"\"\n",
    "    Gradient of the regularized loss function with respect to Bj multiplied by eta.\n",
    "    \"\"\"\n",
    "    # Calculate gradient\n",
    "    grad = r * bj - 2 * (Yij - mu - np.dot(Ui, Vj) - ai - bj)\n",
    "    # Scale by learning rate\n",
    "    scaledGrad = eta * grad\n",
    "    return scaledGrad\n",
    "\n",
    "def get_err(Y, U, A, V, B, mu, reg=0.0):\n",
    "    \"\"\"\n",
    "    Returns the mean regularized squared-error.\n",
    "    \"\"\"\n",
    "    # Calculate regularization penalty\n",
    "    regularization_err = .5 * reg * ( np.linalg.norm(U, ord='fro')**2 \n",
    "                                      + np.linalg.norm(V, ord='fro')**2 \n",
    "                                      + np.linalg.norm(A, ord=2)**2\n",
    "                                      + np.linalg.norm(B, ord=2)**2)\n",
    "    # Find total squared error\n",
    "    squared_err = 0\n",
    "    for triple in Y:\n",
    "        # For each user/movie pair in the dataset, calculate the error in the\n",
    "        # model's prediction\n",
    "        [i, j, rating] = triple\n",
    "        err = (rating - mu - np.dot(U[i-1,:], V[j-1,:]) - A[i-1] - B[j-1])**2\n",
    "        squared_err += err\n",
    "    # Total all error and divide by number of data points\n",
    "    total_err = regularization_err + squared_err\n",
    "    rmse = total_err / len(Y)\n",
    "    return rmse\n",
    "\n",
    "def train_model(M, N, K, eta, r, Y, eps=0.0001, max_epochs=300):\n",
    "    \"\"\"\n",
    "    Returns (U, A, V, B, mu, err) where err is the unregularized MSE of the model.\n",
    "    \"\"\"\n",
    "    # Initialize variables to track epoch count, training error reduction,\n",
    "    # if iteration should continue, and number of data points\n",
    "    err_reduction = []\n",
    "    epoch_count = 0\n",
    "    iterate = True\n",
    "    n_datapoints = len(Y)\n",
    "    # Initialize U, V, A, and B with small random values\n",
    "    U = np.random.uniform(-.5,.5,(M,K))\n",
    "    V = np.random.uniform(-.5,.5,(N,K))\n",
    "    A = np.random.uniform(-.5,.5,(M,))\n",
    "    B = np.random.uniform(-.5,.5,(N,))\n",
    "    # Calculate bias mu\n",
    "    mu = np.average(Y[:,2])\n",
    "    # Calculate the error of this model pre-training\n",
    "    err_old = get_err(Y, U, A, V, B, mu, r)\n",
    "    err_new = err_old\n",
    "    # Perform iterations of SGD\n",
    "    while iterate:\n",
    "        # Shuffle data points\n",
    "        np.random.shuffle(Y)\n",
    "        # Iterate through data points\n",
    "        for triple in Y:\n",
    "            # Unpack data point\n",
    "            [i, j, Yij] = triple\n",
    "            Ui = U[i-1,:]\n",
    "            Ai = A[i-1]\n",
    "            Vj = V[j-1,:]\n",
    "            Bj = B[j-1]\n",
    "            # Calculate gradient and updates\n",
    "            U[i-1,:] = Ui - grad_U(Yij, Ui, Ai, Vj, Bj, mu, r, eta)\n",
    "            A[i-1] = Ai - grad_A(Yij, Ui, Ai, Vj, Bj, mu, r, eta)\n",
    "            V[j-1,:] = Vj - grad_V(Yij, Ui, Ai, Vj, Bj, mu, r, eta)\n",
    "            B[j-1] = Bj - grad_B(Yij, Ui, Ai, Vj, Bj, mu, r, eta)\n",
    "        # Calculate error and error reduction\n",
    "        err_new = get_err(Y, U, A, V, B, mu, r)\n",
    "        err_drop = err_old - err_new\n",
    "        err_reduction.append(err_drop)\n",
    "        err_old = err_new\n",
    "        reduction_ratio = abs(err_reduction[-1]/err_reduction[0])\n",
    "        # Increment epoch count\n",
    "        epoch_count += 1\n",
    "        # Check if iteration should terminate\n",
    "        if (epoch_count >= max_epochs) or (reduction_ratio <= eps):\n",
    "            iterate = False\n",
    "    # Model is now fully trained. Calculate unregularized MSE\n",
    "    mse = get_err(Y, U, A, V, B, mu)\n",
    "    return (U, A, V, B, mu, mse)"
   ]
  },
  {
   "cell_type": "markdown",
   "metadata": {},
   "source": [
    "## Find Optimal Regularization"
   ]
  },
  {
   "cell_type": "code",
   "execution_count": 4,
   "metadata": {},
   "outputs": [
    {
     "name": "stdout",
     "output_type": "stream",
     "text": [
      "Factorizing with  943  users,  1682  movies,  20  factors\n",
      "Best regularization = 0.3\n"
     ]
    },
    {
     "data": {
      "image/png": "[encoded data removed]",
      "text/plain": [
       "<matplotlib.figure.Figure at 0x7f4c50f89e10>"
      ]
     },
     "metadata": {},
     "output_type": "display_data"
    }
   ],
   "source": [
    "Y_sub_train = Y_train[:80000,:]\n",
    "Y_sub_val = Y_train[80000:,:]\n",
    "\n",
    "M = max(max(Y_sub_train[:,0]), max(Y_sub_val[:,0])).astype(int) # users\n",
    "N = max(max(Y_sub_train[:,1]), max(Y_sub_val[:,1])).astype(int) # movies\n",
    "K = 20 # factors\n",
    "print(\"Factorizing with \", M, \" users, \", N, \" movies, \", K, \" factors\")\n",
    "\n",
    "regs = [.01, .03, .1, .3, 1]\n",
    "eta = 0.03 # learning rate\n",
    "\n",
    "E_in = []\n",
    "E_out = []\n",
    "# Use to compute Ein and Eout\n",
    "for r in regs:\n",
    "    U,A,V,B,mu,err = train_model(M, N, K, eta, r, Y_sub_train)\n",
    "    E_in.append(err)\n",
    "    E_out.append(get_err(Y_sub_val, U, A, V, B, mu))\n",
    "\n",
    "plt.semilogx(regs, E_in, label='$E_{in}$')\n",
    "plt.semilogx(regs, E_out, label='$E_{out}$')\n",
    "plt.title('Error vs. Lambda')\n",
    "plt.xlabel('Lambda')\n",
    "plt.ylabel('Error')\n",
    "plt.legend()\n",
    "\n",
    "bestInd = np.argmin(E_out)\n",
    "bestReg = regs[bestInd]\n",
    "\n",
    "print(\"Best regularization = %s\" % bestReg)"
   ]
  },
  {
   "cell_type": "markdown",
   "metadata": {},
   "source": [
    "## Train Final Model"
   ]
  },
  {
   "cell_type": "code",
   "execution_count": 5,
   "metadata": {},
   "outputs": [
    {
     "name": "stdout",
     "output_type": "stream",
     "text": [
      "Factorizing with  943  users,  1682  movies,  20  factors\n",
      "E_in = 0.6569065595332862\n",
      "E_out = 0.8576184057201505\n"
     ]
    }
   ],
   "source": [
    "M = max(max(Y_train[:,0]), max(Y_test[:,0])).astype(int) # users\n",
    "N = max(max(Y_train[:,1]), max(Y_test[:,1])).astype(int) # movies\n",
    "K = 20 # factors\n",
    "print(\"Factorizing with \", M, \" users, \", N, \" movies, \", K, \" factors\")\n",
    "\n",
    "eta = 0.03 # learning rate\n",
    "\n",
    "# Train model and find accuracy\n",
    "U,A,V,B,mu,E_in = train_model(M, N, K, eta, bestReg, Y_train)\n",
    "E_out = get_err(Y_test, U, A, V, B, mu)\n",
    "\n",
    "print(\"E_in = %s\" % E_in)\n",
    "print(\"E_out = %s\" % E_out)"
   ]
  },
  {
   "cell_type": "code",
   "execution_count": null,
   "metadata": {},
   "outputs": [],
   "source": []
  }
 ],
 "metadata": {
  "kernelspec": {
   "display_name": "Python 3",
   "language": "python",
   "name": "python3"
  },
  "language_info": {
   "codemirror_mode": {
    "name": "ipython",
    "version": 3
   },
   "file_extension": ".py",
   "mimetype": "text/x-python",
   "name": "python",
   "nbconvert_exporter": "python",
   "pygments_lexer": "ipython3",
   "version": "3.5.2"
  }
 },
 "nbformat": 4,
 "nbformat_minor": 2
}
